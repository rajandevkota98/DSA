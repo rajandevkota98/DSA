{
 "cells": [
  {
   "cell_type": "markdown",
   "id": "14920894",
   "metadata": {},
   "source": [
    "* Random access has constant time complexity\n",
    "## Searching in Array"
   ]
  },
  {
   "cell_type": "code",
   "execution_count": 1,
   "id": "c1126f48",
   "metadata": {},
   "outputs": [],
   "source": [
    "array1 = [1,3,4,56,7]"
   ]
  },
  {
   "cell_type": "code",
   "execution_count": 4,
   "id": "d82a78e2",
   "metadata": {},
   "outputs": [],
   "source": [
    "def search(array, element)->int:\n",
    "    for i in array1:\n",
    "        if i == element:\n",
    "            return True\n",
    "    return False"
   ]
  },
  {
   "cell_type": "code",
   "execution_count": 6,
   "id": "8fa22d6c",
   "metadata": {},
   "outputs": [
    {
     "data": {
      "text/plain": [
       "True"
      ]
     },
     "execution_count": 6,
     "metadata": {},
     "output_type": "execute_result"
    }
   ],
   "source": [
    "search(array1, 3)"
   ]
  },
  {
   "cell_type": "code",
   "execution_count": null,
   "id": "170c793f",
   "metadata": {},
   "outputs": [],
   "source": []
  }
 ],
 "metadata": {
  "kernelspec": {
   "display_name": "Python 3",
   "language": "python",
   "name": "python3"
  },
  "language_info": {
   "codemirror_mode": {
    "name": "ipython",
    "version": 3
   },
   "file_extension": ".py",
   "mimetype": "text/x-python",
   "name": "python",
   "nbconvert_exporter": "python",
   "pygments_lexer": "ipython3",
   "version": "3.9.12"
  }
 },
 "nbformat": 4,
 "nbformat_minor": 5
}
