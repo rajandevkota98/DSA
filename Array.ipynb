{
 "cells": [
  {
   "cell_type": "markdown",
   "id": "37129cef",
   "metadata": {},
   "source": [
    "* Random access has constant time complexity\n",
    "## Searching in Array"
   ]
  },
  {
   "cell_type": "code",
   "execution_count": 1,
   "id": "bcfee8c7",
   "metadata": {},
   "outputs": [],
   "source": [
    "array1 = [1,3,4,56,7]"
   ]
  },
  {
   "cell_type": "code",
   "execution_count": 4,
   "id": "0fa5ec11",
   "metadata": {},
   "outputs": [],
   "source": [
    "def search(array, element)->int:\n",
    "    for i in array1:\n",
    "        if i == element:\n",
    "            return True\n",
    "    return False"
   ]
  },
  {
   "cell_type": "code",
   "execution_count": 6,
   "id": "956fc5ca",
   "metadata": {},
   "outputs": [
    {
     "data": {
      "text/plain": [
       "True"
      ]
     },
     "execution_count": 6,
     "metadata": {},
     "output_type": "execute_result"
    }
   ],
   "source": [
    "search(array1, 3)"
   ]
  },
  {
   "cell_type": "markdown",
   "id": "ed3c359f",
   "metadata": {},
   "source": [
    "* The time complexity of this search is O(n)"
   ]
  },
  {
   "cell_type": "code",
   "execution_count": 9,
   "id": "814abca1",
   "metadata": {},
   "outputs": [
    {
     "name": "stdout",
     "output_type": "stream",
     "text": [
      "Searching element is present at index: 0\n"
     ]
    }
   ],
   "source": [
    "\n",
    "def linearSearch(arr, x):\n",
    "    for i in range(len(arr)):\n",
    "        if arr[i] == x:\n",
    "            return i\n",
    "    return -1\n",
    "## Driver code\n",
    "arr = [20, 45, 27, 47, 55, 67, 75, 88, 90]\n",
    "x = 20\n",
    "## function calling\n",
    "result = linearSearch(arr, x)\n",
    "print(\"Searching element is present at index:\",result)"
   ]
  },
  {
   "cell_type": "markdown",
   "id": "382d86dd",
   "metadata": {},
   "source": [
    "* The best case time complexity would be O(1) --> in the first index\n",
    "* worst case would be 0(n) -->at the last"
   ]
  },
  {
   "cell_type": "markdown",
   "id": "486d55a0",
   "metadata": {},
   "source": [
    "# Since we have to travese through entire array, binary search comes to the picture"
   ]
  },
  {
   "cell_type": "markdown",
   "id": "33fded52",
   "metadata": {},
   "source": [
    "* it is only applicable to the sorted array."
   ]
  },
  {
   "cell_type": "markdown",
   "id": "bea04eae",
   "metadata": {},
   "source": [
    "* it can be either in ascending or descending"
   ]
  },
  {
   "cell_type": "code",
   "execution_count": 22,
   "id": "3030f674",
   "metadata": {},
   "outputs": [
    {
     "ename": "IndentationError",
     "evalue": "expected an indented block (608277079.py, line 3)",
     "output_type": "error",
     "traceback": [
      "\u001b[0;36m  Input \u001b[0;32mIn [22]\u001b[0;36m\u001b[0m\n\u001b[0;31m    if arr[mid]==x:\u001b[0m\n\u001b[0m                   ^\u001b[0m\n\u001b[0;31mIndentationError\u001b[0m\u001b[0;31m:\u001b[0m expected an indented block\n"
     ]
    }
   ],
   "source": [
    "def binary_search(arr, x):\n",
    "    mid = len(arr)/2\n",
    "    if arr[mid]==x:\n",
    "        return mid\n",
    "    elif arr[mid]<x:\n",
    "        while"
   ]
  },
  {
   "cell_type": "raw",
   "id": "b3a203de",
   "metadata": {},
   "source": []
  }
 ],
 "metadata": {
  "kernelspec": {
   "display_name": "Python 3",
   "language": "python",
   "name": "python3"
  },
  "language_info": {
   "codemirror_mode": {
    "name": "ipython",
    "version": 3
   },
   "file_extension": ".py",
   "mimetype": "text/x-python",
   "name": "python",
   "nbconvert_exporter": "python",
   "pygments_lexer": "ipython3",
   "version": "3.9.12"
  }
 },
 "nbformat": 4,
 "nbformat_minor": 5
}
