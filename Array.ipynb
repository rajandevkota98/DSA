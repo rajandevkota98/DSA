{
 "cells": [
  {
   "cell_type": "markdown",
   "id": "37129cef",
   "metadata": {},
   "source": [
    "* Random access has constant time complexity\n",
    "## Searching in Array"
   ]
  },
  {
   "cell_type": "code",
   "execution_count": 2,
   "id": "bcfee8c7",
   "metadata": {},
   "outputs": [],
   "source": [
    "array1 = [1,3,4,56,7]"
   ]
  },
  {
   "cell_type": "code",
   "execution_count": 3,
   "id": "0fa5ec11",
   "metadata": {},
   "outputs": [],
   "source": [
    "def search(array, element)->int:\n",
    "    for i in array1:\n",
    "        if i == element:\n",
    "            return True\n",
    "    return False"
   ]
  },
  {
   "cell_type": "code",
   "execution_count": 5,
   "id": "956fc5ca",
   "metadata": {},
   "outputs": [
    {
     "data": {
      "text/plain": [
       "False"
      ]
     },
     "execution_count": 5,
     "metadata": {},
     "output_type": "execute_result"
    }
   ],
   "source": [
    "search(array1, 0.1)"
   ]
  },
  {
   "cell_type": "code",
   "execution_count": 8,
   "id": "bed281af",
   "metadata": {},
   "outputs": [],
   "source": [
    "def linear_search(arr, x):\n",
    "    '''\n",
    "    return index if present, return -1 if not present\n",
    "    '''\n",
    "    for i in range(len(arr)):\n",
    "        if arr[i]==x:\n",
    "            return i\n",
    "        \n",
    "    return -1"
   ]
  },
  {
   "cell_type": "code",
   "execution_count": 9,
   "id": "4e0cc362",
   "metadata": {},
   "outputs": [
    {
     "data": {
      "text/plain": [
       "2"
      ]
     },
     "execution_count": 9,
     "metadata": {},
     "output_type": "execute_result"
    }
   ],
   "source": [
    "linear_search(array1,4)"
   ]
  },
  {
   "cell_type": "code",
   "execution_count": 10,
   "id": "88c808a6",
   "metadata": {},
   "outputs": [
    {
     "data": {
      "text/plain": [
       "-1"
      ]
     },
     "execution_count": 10,
     "metadata": {},
     "output_type": "execute_result"
    }
   ],
   "source": [
    "linear_search(array1,0.1)"
   ]
  },
  {
   "cell_type": "markdown",
   "id": "ed3c359f",
   "metadata": {},
   "source": [
    "* The time complexity of this search is O(n)"
   ]
  },
  {
   "cell_type": "code",
   "execution_count": 9,
   "id": "814abca1",
   "metadata": {},
   "outputs": [
    {
     "name": "stdout",
     "output_type": "stream",
     "text": [
      "Searching element is present at index: 0\n"
     ]
    }
   ],
   "source": [
    "\n",
    "def linearSearch(arr, x):\n",
    "    for i in range(len(arr)):\n",
    "        if arr[i] == x:\n",
    "            return i\n",
    "    return -1\n",
    "## Driver code\n",
    "arr = [20, 45, 27, 47, 55, 67, 75, 88, 90]\n",
    "x = 20\n",
    "## function calling\n",
    "result = linearSearch(arr, x)\n",
    "print(\"Searching element is present at index:\",result)"
   ]
  },
  {
   "cell_type": "markdown",
   "id": "382d86dd",
   "metadata": {},
   "source": [
    "* The best case time complexity would be O(1) --> in the first index\n",
    "* worst case would be 0(n) -->at the last"
   ]
  },
  {
   "cell_type": "markdown",
   "id": "486d55a0",
   "metadata": {},
   "source": [
    "# Since we have to travese through entire array, binary search comes to the picture"
   ]
  },
  {
   "cell_type": "markdown",
   "id": "33fded52",
   "metadata": {},
   "source": [
    "* it is only applicable to the sorted array."
   ]
  },
  {
   "cell_type": "markdown",
   "id": "bea04eae",
   "metadata": {},
   "source": [
    "* it can be either in ascending or descending"
   ]
  },
  {
   "cell_type": "code",
   "execution_count": 1,
   "id": "3030f674",
   "metadata": {},
   "outputs": [
    {
     "name": "stdout",
     "output_type": "stream",
     "text": [
      "Searching element is present at the location: 6\n"
     ]
    }
   ],
   "source": [
    "## Binary Search Algorithm using recursion\n",
    "## function definition\n",
    "def binarySearch(arr, x, i, j):\n",
    "    while i <= j:\n",
    "        mid = i + (j-i)//2\n",
    "        if arr[mid] == x:\n",
    "            return mid\n",
    "        elif arr[mid] < x:\n",
    "            ## right side of the mid\n",
    "            ## seach space - mid+1 to j\n",
    "            ## recursion - calling the same function again inside the \n",
    "            ## method definition\n",
    "            return binarySearch(arr, x, mid+1, j)\n",
    "        else:\n",
    "            ## left side of the mid\n",
    "            ## search space - i to mid-1\n",
    "            return binarySearch(arr, x, i, mid-1)\n",
    "    ## searching element is not present in an array\n",
    "    return -1\n",
    "\n",
    "## Driver code\n",
    "arr = [20, 30, 40, 50, 60, 70, 80, 90]\n",
    "x = 80\n",
    "i = 0\n",
    "j = len(arr) - 1\n",
    "## function calling\n",
    "result = binarySearch(arr, x, i, j)\n",
    "print(\"Searching element is present at the location:\",result)"
   ]
  },
  {
   "cell_type": "code",
   "execution_count": 13,
   "id": "d9d21404",
   "metadata": {},
   "outputs": [],
   "source": [
    "## Binary Search Algorithm without using recursion(iterative)\n",
    "## function definition\n",
    "def binarySearch(arr, x):\n",
    "    i = 0\n",
    "    j = len(arr)-1\n",
    "    while i <= j:\n",
    "        ## lower bound while division\n",
    "        mid = i + (j-i)//2\n",
    "        if arr[mid] == x:\n",
    "            return mid\n",
    "        elif arr[mid] < x:\n",
    "            ## right side of the mid\n",
    "            ## seach space - mid+1 to j\n",
    "            i = mid + 1\n",
    "            ## arr[mid] > x:\n",
    "        else:\n",
    "            ## left side of the mid\n",
    "            ## search space - i to mid-1\n",
    "            j = mid - 1\n",
    "    ## searching element is not present in an array\n",
    "    return -1\n",
    "\n",
    "## Driver code\n",
    "arr = [20, 30, 40, 50, 60, 70, 80, 90]\n",
    "# i = 0\n",
    "# j = len(arr) - 1\n",
    "## function calling\n",
    "result = binarySearch(arr, 90)"
   ]
  },
  {
   "cell_type": "code",
   "execution_count": 14,
   "id": "f74019ac",
   "metadata": {},
   "outputs": [
    {
     "name": "stdout",
     "output_type": "stream",
     "text": [
      "Searching element is present at the location: 7\n"
     ]
    }
   ],
   "source": [
    "print(\"Searching element is present at the location:\",result)"
   ]
  },
  {
   "cell_type": "code",
   "execution_count": 34,
   "id": "69c548ab",
   "metadata": {},
   "outputs": [],
   "source": [
    "def binary_search(arr, x):\n",
    "    arr.sort()\n",
    "    left = 0\n",
    "    right = len(arr)-1\n",
    "    while left <=right:\n",
    "        mid = (left + right)//2\n",
    "        if arr[mid] == x:\n",
    "            return mid\n",
    "        elif arr[mid]<x:\n",
    "            right = mid-1\n",
    "        else:\n",
    "            left = mid +1\n",
    "    return -1"
   ]
  },
  {
   "cell_type": "code",
   "execution_count": 41,
   "id": "71a7e026",
   "metadata": {},
   "outputs": [],
   "source": [
    "result = binarySearch(list1, 10101)"
   ]
  },
  {
   "cell_type": "code",
   "execution_count": 42,
   "id": "89789505",
   "metadata": {},
   "outputs": [
    {
     "name": "stdout",
     "output_type": "stream",
     "text": [
      "Searching element is present at the location: -1\n"
     ]
    }
   ],
   "source": [
    "print(\"Searching element is present at the location:\",result)"
   ]
  },
  {
   "cell_type": "code",
   "execution_count": 46,
   "id": "cb943e57",
   "metadata": {},
   "outputs": [],
   "source": [
    "list1 = [ i for i in range(0,10)]"
   ]
  },
  {
   "cell_type": "code",
   "execution_count": 72,
   "id": "f8380bce",
   "metadata": {},
   "outputs": [
    {
     "data": {
      "text/plain": [
       "[0, 1, 2, 3, 4, 5, 6, 7, 8, 9]"
      ]
     },
     "execution_count": 72,
     "metadata": {},
     "output_type": "execute_result"
    }
   ],
   "source": [
    "list1"
   ]
  },
  {
   "cell_type": "code",
   "execution_count": 81,
   "id": "8acebe82",
   "metadata": {},
   "outputs": [],
   "source": [
    "def binary_search_using_recursion(arr, x , left,right):\n",
    "    while left <=right:\n",
    "        mid = (left+right)//2\n",
    "        if arr[mid] == x:\n",
    "            return mid\n",
    "        elif arr[mid]<x:\n",
    "            return binary_search_using_recursion(arr, x, mid+1, right)\n",
    "        else:\n",
    "            return binary_search_using_recursion(arr, x,left, mid-1)\n",
    "    return -1"
   ]
  },
  {
   "cell_type": "code",
   "execution_count": 82,
   "id": "c61a0b81",
   "metadata": {},
   "outputs": [],
   "source": [
    "result = binary_search_using_recursion(list1,8,0, len(list1)-1)"
   ]
  },
  {
   "cell_type": "code",
   "execution_count": 83,
   "id": "da767669",
   "metadata": {},
   "outputs": [
    {
     "name": "stdout",
     "output_type": "stream",
     "text": [
      "8\n"
     ]
    }
   ],
   "source": [
    "print(result)"
   ]
  },
  {
   "cell_type": "code",
   "execution_count": null,
   "id": "934a91d6",
   "metadata": {},
   "outputs": [],
   "source": []
  }
 ],
 "metadata": {
  "kernelspec": {
   "display_name": "Python 3",
   "language": "python",
   "name": "python3"
  },
  "language_info": {
   "codemirror_mode": {
    "name": "ipython",
    "version": 3
   },
   "file_extension": ".py",
   "mimetype": "text/x-python",
   "name": "python",
   "nbconvert_exporter": "python",
   "pygments_lexer": "ipython3",
   "version": "3.9.12"
  }
 },
 "nbformat": 4,
 "nbformat_minor": 5
}
